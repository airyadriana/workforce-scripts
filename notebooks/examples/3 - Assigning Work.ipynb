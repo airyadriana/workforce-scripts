{
 "cells": [
  {
   "cell_type": "markdown",
   "metadata": {},
   "source": [
    "# 3 - Assigning Work\n",
    "\n",
    "This is a continuation of the previous notebooks that were used to configure a new Workforce Project and import assignments. \n",
    "\n",
    "Many organizations would like to automatically dispatch work orders based on some algorithm. In this guide, we'll demonstrate how to assign workers to assignments with three different approaches:\n",
    "1. Based on the location of the assignment within pre-defined zones\n",
    "2. Based on the network drive time from current workers to the new assignments\n",
    "3. Based on the work-load of workers out in the field\n",
    "\n",
    "This guide uses the ArcGIS API for Python version 1.5.1 with Python 3.6+."
   ]
  },
  {
   "cell_type": "markdown",
   "metadata": {},
   "source": [
    "### Fetching the Project\n",
    "Let's import the ArcGIS API for Python and find the project we previously configured."
   ]
  },
  {
   "cell_type": "code",
   "execution_count": 1,
   "metadata": {},
   "outputs": [
    {
     "name": "stdout",
     "output_type": "stream",
     "text": [
      "Enter password: ········\n"
     ]
    }
   ],
   "source": [
    "from arcgis.gis import GIS\n",
    "from arcgis.apps import workforce\n",
    "\n",
    "gis = GIS(\"https://arcgis.com\", \"workforce_scripts\")\n",
    "project = workforce.Project(gis.content.search(\"type:'Workforce Project' 'Public Works Work Orders'\")[0])"
   ]
  },
  {
   "cell_type": "markdown",
   "metadata": {},
   "source": [
    "### Assigning assignments based on pre-defined zones\n",
    "Let's assign all of the \"Paint Crosswalk\" assignments based on the city council district in which they are located. For each crosswalk that needs to be painted, we'll either assign it to Aaron or James. If it falls within district 3 we'll assign it to James. If instead it falls within district 8 we'll assign it to Aaron.\n",
    "\n",
    "Note: This section requires that the current Python Environment has [arcpy](http://pro.arcgis.com/en/pro-app/arcpy/main/arcgis-pro-arcpy-reference.htm) or [shapely](https://github.com/Toblerity/Shapely) installed."
   ]
  },
  {
   "cell_type": "code",
   "execution_count": 2,
   "metadata": {},
   "outputs": [
    {
     "data": {
      "text/html": [
       "<div class=\"item_container\" style=\"height: auto; overflow: hidden; border: 1px solid #cfcfcf; border-radius: 2px; background: #f6fafa; line-height: 1.21429em; padding: 10px;\">\n",
       "                    <div class=\"item_left\" style=\"width: 210px; float: left;\">\n",
       "                       <a href='https://Nitro.maps.arcgis.com/home/item.html?id=08eecb2f46c740aaba316cef8a719a88' target='_blank'>\n",
       "                        <img src='data:image/png;base64,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' width='200' height='133' class=\"itemThumbnail\">\n",
       "                       </a>\n",
       "                    </div>\n",
       "\n",
       "                    <div class=\"item_right\"     style=\"float: none; width: auto; overflow: hidden;\">\n",
       "                        <a href='https://Nitro.maps.arcgis.com/home/item.html?id=08eecb2f46c740aaba316cef8a719a88' target='_blank'><b>San Diego City Council Districts</b>\n",
       "                        </a>\n",
       "                        <br/><img src='https://Nitro.maps.arcgis.com/home/js/jsapi/esri/css/images/item_type_icons/featureshosted16.png' style=\"vertical-align:middle;\">Feature Layer Collection by workforce_scripts\n",
       "                        <br/>Last Modified: July 03, 2018\n",
       "                        <br/>0 comments, 138 views\n",
       "                    </div>\n",
       "                </div>\n",
       "                "
      ],
      "text/plain": [
       "<Item title:\"San Diego City Council Districts\" type:Feature Layer Collection owner:workforce_scripts>"
      ]
     },
     "execution_count": 2,
     "metadata": {},
     "output_type": "execute_result"
    }
   ],
   "source": [
    "districts_item = gis.content.get(\"08eecb2f46c740aaba316cef8a719a88\")\n",
    "districts_item"
   ]
  },
  {
   "cell_type": "markdown",
   "metadata": {},
   "source": [
    "First, let's fetch Aaron and James from the project, so we can assign assignments to them."
   ]
  },
  {
   "cell_type": "code",
   "execution_count": 3,
   "metadata": {},
   "outputs": [],
   "source": [
    "aaron = project.workers.get(user_id=\"aaron_nitro\")\n",
    "james = project.workers.get(user_id=\"james_nitro\")"
   ]
  },
  {
   "cell_type": "markdown",
   "metadata": {},
   "source": [
    "Next, we'll fetch the third and eighth district from the districts layer and convert the result to a spatially enabled dataframe."
   ]
  },
  {
   "cell_type": "code",
   "execution_count": 4,
   "metadata": {},
   "outputs": [],
   "source": [
    "districts_df = districts_item.layers[0].query(\"district in (3,8)\").sdf"
   ]
  },
  {
   "cell_type": "markdown",
   "metadata": {},
   "source": [
    "Then we'll search for all unassigned \"Paint Crosswalk\" assignments."
   ]
  },
  {
   "cell_type": "code",
   "execution_count": 5,
   "metadata": {},
   "outputs": [],
   "source": [
    "paint_crosswalk = project.assignment_types.get(name=\"Paint Crosswalk\")\n",
    "assignments = project.assignments.search(f\"status=0 AND assignmentType={paint_crosswalk.code}\")"
   ]
  },
  {
   "cell_type": "markdown",
   "metadata": {},
   "source": [
    "For each assignment we'll determine if it lies within either district 3 or 8. If the assignment is within district 3, we'll assign it to James. If the assignment falls within district 8, we'll assign it to Aaron. Otherwise we'll leave the assignment unassigned."
   ]
  },
  {
   "cell_type": "code",
   "execution_count": 6,
   "metadata": {},
   "outputs": [],
   "source": [
    "from arcgis.geometry import Geometry\n",
    "from datetime import datetime\n",
    "\n",
    "for assignment in assignments:\n",
    "    contains = districts_df[\"SHAPE\"].geom.contains(Geometry(assignment.geometry))\n",
    "    containers = districts_df[contains]\n",
    "    if not containers.empty: \n",
    "        district = containers['district'].iloc[0]\n",
    "        if district == 3:\n",
    "            assignment.worker = james\n",
    "            assignment.status = \"assigned\"\n",
    "            assignment.assigned_date = datetime.utcnow()\n",
    "        elif district == 8:\n",
    "            assignment.worker = aaron\n",
    "            assignment.status = \"assigned\"\n",
    "            assignment.assigned_date = datetime.utcnow()"
   ]
  },
  {
   "cell_type": "markdown",
   "metadata": {},
   "source": [
    "Now that the assignments have been assigned locally, we'll push those changes to the server."
   ]
  },
  {
   "cell_type": "code",
   "execution_count": 7,
   "metadata": {},
   "outputs": [],
   "source": [
    "assignments = project.assignments.batch_update(assignments)"
   ]
  },
  {
   "cell_type": "markdown",
   "metadata": {},
   "source": [
    "### Assigning based on network drive time\n",
    "Let's assign all of the \"Fill in Pothole\" assignments to the nearest working worker.\n",
    "First, we need to create a function to calculate the network travel time between two points. In this function, we'll use the default routing service provided by the organization to create a [RouteLayer](https://esri.github.io/arcgis-python-api/apidoc/html/arcgis.network.toc.html#routelayer) object. We'll add the first point as the starting location and the second point as the ending location. We will solve this route to determine the total time it will take to travel between the two locations."
   ]
  },
  {
   "cell_type": "code",
   "execution_count": 8,
   "metadata": {},
   "outputs": [],
   "source": [
    "from arcgis.network import RouteLayer\n",
    "\n",
    "def calculate_route_time(p1, p2, gis):\n",
    "    route_layer = RouteLayer(gis.properties[\"helperServices\"][\"route\"][\"url\"], gis)\n",
    "    if 'spatialReference' not in p1:\n",
    "        p1 = {'x': p1['x'], 'y': p1['y'], 'spatialReference': {'wkid': 102100}}\n",
    "    if 'spatialReference' not in p2:\n",
    "        p2 = {'x': p2['x'], 'y': p2['y'], 'spatialReference': {'wkid': 102100}}\n",
    "    stops = {\n",
    "        'features': [\n",
    "            {'geometry': p1, 'attributes': {'Name': 'start'}},\n",
    "            {'geometry': p2, 'attributes': {'Name': 'end'}}\n",
    "        ]\n",
    "    }\n",
    "    try:\n",
    "        route = route_layer.solve(stops, out_sr=102100, directions_length_units=\"esriNAUMeters\")\n",
    "        return route[\"directions\"][0][\"summary\"][\"totalTime\"]\n",
    "    except Exception as e:\n",
    "        return sys.maxsize"
   ]
  },
  {
   "cell_type": "markdown",
   "metadata": {},
   "source": [
    "Next let's fetch all of the active workers."
   ]
  },
  {
   "cell_type": "code",
   "execution_count": 9,
   "metadata": {},
   "outputs": [],
   "source": [
    "workers = project.workers.search(\"status=1\")"
   ]
  },
  {
   "cell_type": "markdown",
   "metadata": {},
   "source": [
    "Let's also fetch all of the unassigned \"Fill in Pothole\" assignments."
   ]
  },
  {
   "cell_type": "code",
   "execution_count": 10,
   "metadata": {},
   "outputs": [],
   "source": [
    "fill_in_pothole = project.assignment_types.get(name=\"Fill in Pothole\")\n",
    "assignments = project.assignments.search(f\"status=0 AND assignmentType={fill_in_pothole.code}\")"
   ]
  },
  {
   "cell_type": "markdown",
   "metadata": {},
   "source": [
    "Now we'll iterate over all of the assignments and calculate the travel time between the assignment and all workers. We'll then sort the travel times of each worker and assign the first worker in the sorted list to the assignment."
   ]
  },
  {
   "cell_type": "code",
   "execution_count": 11,
   "metadata": {},
   "outputs": [],
   "source": [
    "for assignment in assignments:\n",
    "    distances = []\n",
    "    for worker in workers:\n",
    "        route_time = calculate_route_time(worker.geometry, assignment.geometry, gis)\n",
    "        distances.append({\"worker\": worker, \"time\": route_time})\n",
    "    assignment.worker = sorted(distances, key=lambda x: x[\"time\"])[0][\"worker\"]\n",
    "    assignment.assigned_date = datetime.utcnow()\n",
    "    assignment.status = \"assigned\""
   ]
  },
  {
   "cell_type": "markdown",
   "metadata": {},
   "source": [
    "Now that the assignments have been assigned locally, we'll push those changes to the server."
   ]
  },
  {
   "cell_type": "code",
   "execution_count": 12,
   "metadata": {},
   "outputs": [],
   "source": [
    "assignments = project.assignments.batch_update(assignments)"
   ]
  },
  {
   "cell_type": "markdown",
   "metadata": {},
   "source": [
    "### Assigning based on workload of worker\n",
    "Let's assign the \"Sidewalk Repair\" assignments to workers who have the fewest assignments. This way the total workload is evenly distributed. First let's fetch all of the unassigned sidewalk repair assignments."
   ]
  },
  {
   "cell_type": "code",
   "execution_count": 13,
   "metadata": {},
   "outputs": [],
   "source": [
    "sidwalk_repair = project.assignment_types.get(name=\"Sidewalk Repair\")\n",
    "assignments = project.assignments.search(f\"status=0 AND assignmentType={sidwalk_repair.code}\")"
   ]
  },
  {
   "cell_type": "markdown",
   "metadata": {},
   "source": [
    "Next, let's calculate the workload of each worker and store it in a list of dictionaries."
   ]
  },
  {
   "cell_type": "code",
   "execution_count": 14,
   "metadata": {},
   "outputs": [],
   "source": [
    "workloads = []\n",
    "for worker in workers:\n",
    "    number_of_assignments = len(project.assignments.search(where=f\"workerId='{worker.id}' AND status in (1,2,5)\"))\n",
    "    workloads.append({\"worker\": worker, \"workload\": number_of_assignments})"
   ]
  },
  {
   "cell_type": "markdown",
   "metadata": {},
   "source": [
    "Now we'll iterate over the assignments and assign the worker who has the fewest assignments. We'll also increment that workers workload by one."
   ]
  },
  {
   "cell_type": "code",
   "execution_count": 15,
   "metadata": {},
   "outputs": [],
   "source": [
    "for assignment in assignments:\n",
    "    worker_dict = sorted(workloads, key=lambda x: x[\"workload\"])[0]\n",
    "    assignment.worker = worker_dict[\"worker\"]\n",
    "    assignment.assigned_date = datetime.utcnow()\n",
    "    assignment.status = \"assigned\"\n",
    "    worker_dict[\"workload\"] += 1"
   ]
  },
  {
   "cell_type": "markdown",
   "metadata": {},
   "source": [
    "Now that the assignments have been assigned locally, we'll push those changes to the server."
   ]
  },
  {
   "cell_type": "code",
   "execution_count": 16,
   "metadata": {},
   "outputs": [],
   "source": [
    "assignments = project.assignments.batch_update(assignments)"
   ]
  },
  {
   "cell_type": "markdown",
   "metadata": {},
   "source": [
    "### Summary\n",
    "We just demonstrated three different ways to assign workers to assignments. There are many other algorithms that could be used to assign work. A couple example of more advanced methods that we've seen include:\n",
    "1. Assigning based on the skill set of the worker (e.g. an Inspector only does Inspection assignments and a Plumber only does Plumbing assignments).\n",
    "2. Assigning based on a combination of travel time and current workload.\n",
    "\n",
    "The possibilities are nearly endless!"
   ]
  }
 ],
 "metadata": {
  "kernelspec": {
   "display_name": "Python 3",
   "language": "python",
   "name": "python3"
  },
  "language_info": {
   "codemirror_mode": {
    "name": "ipython",
    "version": 3
   },
   "file_extension": ".py",
   "mimetype": "text/x-python",
   "name": "python",
   "nbconvert_exporter": "python",
   "pygments_lexer": "ipython3",
   "version": "3.6.7"
  }
 },
 "nbformat": 4,
 "nbformat_minor": 2
}
